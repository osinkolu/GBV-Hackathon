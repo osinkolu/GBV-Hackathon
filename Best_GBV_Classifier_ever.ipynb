{
 "cells": [
  {
   "cell_type": "markdown",
   "metadata": {},
   "source": [
    "### Author : Olufemi Victor Tolulope in GBV Classifiers team."
   ]
  },
  {
   "cell_type": "markdown",
   "metadata": {},
   "source": [
    "Competition: Gender-Based Violence Tweet Classification by #ZindiWeekendz\n",
    "\n",
    "Device used to run this notebook: Google colab, free version."
   ]
  },
  {
   "cell_type": "markdown",
   "metadata": {},
   "source": [
    "###### Mount your google drive if your data is located there."
   ]
  },
  {
   "cell_type": "code",
   "execution_count": 1,
   "metadata": {
    "colab": {
     "base_uri": "https://localhost:8080/"
    },
    "id": "-vneqFXcjT9P",
    "outputId": "8425a4e8-7b61-4a1f-d005-e89f73409fb1"
   },
   "outputs": [
    {
     "name": "stdout",
     "output_type": "stream",
     "text": [
      "Mounted at /content/drive/\n"
     ]
    }
   ],
   "source": [
    "# mount your google drive\n",
    "from google.colab import drive\n",
    "drive.mount('/content/drive/')"
   ]
  },
  {
   "cell_type": "markdown",
   "metadata": {},
   "source": [
    "Install the Fastai library using pip install. Also upgrade to the latest version."
   ]
  },
  {
   "cell_type": "code",
   "execution_count": 2,
   "metadata": {
    "colab": {
     "base_uri": "https://localhost:8080/"
    },
    "id": "06Zja3yVjtyv",
    "outputId": "3aca7467-bc9d-44a9-bdd1-806658ceb685"
   },
   "outputs": [
    {
     "name": "stdout",
     "output_type": "stream",
     "text": [
      "\u001b[?25l\r",
      "\u001b[K     |█▊                              | 10 kB 26.5 MB/s eta 0:00:01\r",
      "\u001b[K     |███▌                            | 20 kB 32.9 MB/s eta 0:00:01\r",
      "\u001b[K     |█████▏                          | 30 kB 28.0 MB/s eta 0:00:01\r",
      "\u001b[K     |███████                         | 40 kB 20.2 MB/s eta 0:00:01\r",
      "\u001b[K     |████████▊                       | 51 kB 10.8 MB/s eta 0:00:01\r",
      "\u001b[K     |██████████▍                     | 61 kB 9.2 MB/s eta 0:00:01\r",
      "\u001b[K     |████████████▏                   | 71 kB 10.0 MB/s eta 0:00:01\r",
      "\u001b[K     |█████████████▉                  | 81 kB 11.1 MB/s eta 0:00:01\r",
      "\u001b[K     |███████████████▋                | 92 kB 12.1 MB/s eta 0:00:01\r",
      "\u001b[K     |█████████████████▍              | 102 kB 9.9 MB/s eta 0:00:01\r",
      "\u001b[K     |███████████████████             | 112 kB 9.9 MB/s eta 0:00:01\r",
      "\u001b[K     |████████████████████▉           | 122 kB 9.9 MB/s eta 0:00:01\r",
      "\u001b[K     |██████████████████████▋         | 133 kB 9.9 MB/s eta 0:00:01\r",
      "\u001b[K     |████████████████████████▎       | 143 kB 9.9 MB/s eta 0:00:01\r",
      "\u001b[K     |██████████████████████████      | 153 kB 9.9 MB/s eta 0:00:01\r",
      "\u001b[K     |███████████████████████████▊    | 163 kB 9.9 MB/s eta 0:00:01\r",
      "\u001b[K     |█████████████████████████████▌  | 174 kB 9.9 MB/s eta 0:00:01\r",
      "\u001b[K     |███████████████████████████████▎| 184 kB 9.9 MB/s eta 0:00:01\r",
      "\u001b[K     |████████████████████████████████| 188 kB 9.9 MB/s \n",
      "\u001b[?25h\u001b[?25l\r",
      "\u001b[K     |██████                          | 10 kB 38.4 MB/s eta 0:00:01\r",
      "\u001b[K     |████████████                    | 20 kB 43.2 MB/s eta 0:00:01\r",
      "\u001b[K     |██████████████████              | 30 kB 51.2 MB/s eta 0:00:01\r",
      "\u001b[K     |████████████████████████        | 40 kB 55.3 MB/s eta 0:00:01\r",
      "\u001b[K     |██████████████████████████████  | 51 kB 52.4 MB/s eta 0:00:01\r",
      "\u001b[K     |████████████████████████████████| 54 kB 3.2 MB/s \n",
      "\u001b[?25h"
     ]
    }
   ],
   "source": [
    "#!pip install torch_nightly -f https://download.pytorch.org/whl/nightly/cu92/torch_nightly.html\n",
    "!pip install fastai --upgrade --quiet"
   ]
  },
  {
   "cell_type": "markdown",
   "metadata": {},
   "source": [
    "import everything from fastai text library."
   ]
  },
  {
   "cell_type": "code",
   "execution_count": 3,
   "metadata": {
    "id": "EspUB74CmIKj"
   },
   "outputs": [],
   "source": [
    "from fastai.text.all import *"
   ]
  },
  {
   "cell_type": "markdown",
   "metadata": {},
   "source": [
    "It's over important to set the seed, so let's just seed everything! I'm using 2021"
   ]
  },
  {
   "cell_type": "code",
   "execution_count": 4,
   "metadata": {
    "id": "yIpuF8MRmTAe"
   },
   "outputs": [],
   "source": [
    " def random_seed(seed_value, use_cuda): \n",
    "    np.random.seed(seed_value)\n",
    " #cpu vars\n",
    "    torch.manual_seed(seed_value) \n",
    "# cpu  vars\n",
    "    random.seed(seed_value)\n",
    " # Python \n",
    "    if use_cuda: \n",
    "        torch.cuda.manual_seed(seed_value) \n",
    "        torch.cuda.manual_seed_all(seed_value) \n",
    "# gpu vars\n",
    "        torch.backends.cudnn.deterministic = True \n",
    " #needed\n",
    "        torch.backends.cudnn.benchmark = False \n",
    "#Remember to use num_workers=0 when creating the DataBunch."
   ]
  },
  {
   "cell_type": "code",
   "execution_count": 5,
   "metadata": {
    "id": "0DR5l78umVOh"
   },
   "outputs": [],
   "source": [
    "random_seed(2021,True)"
   ]
  },
  {
   "cell_type": "markdown",
   "metadata": {},
   "source": [
    "Check if cuda is available, you'll be needing your GPU."
   ]
  },
  {
   "cell_type": "code",
   "execution_count": 6,
   "metadata": {
    "colab": {
     "base_uri": "https://localhost:8080/"
    },
    "id": "yOvqwv2ZmXNx",
    "outputId": "01742947-b189-4422-baeb-f1bed59d60f1"
   },
   "outputs": [
    {
     "data": {
      "text/plain": [
       "True"
      ]
     },
     "execution_count": 6,
     "metadata": {
      "tags": []
     },
     "output_type": "execute_result"
    }
   ],
   "source": [
    "torch.cuda.is_available()"
   ]
  },
  {
   "cell_type": "markdown",
   "metadata": {},
   "source": [
    "Now that you're setup, bring in the data from the location on drive."
   ]
  },
  {
   "cell_type": "code",
   "execution_count": 7,
   "metadata": {
    "id": "3qZU5_LSmZSr"
   },
   "outputs": [],
   "source": [
    "train = pd.read_csv(\"/content/drive/MyDrive/machine_learning_stories/Weekendz/GBV/Train.csv\")\n",
    "test = pd.read_csv(\"/content/drive/MyDrive/machine_learning_stories/Weekendz/GBV/Test.csv\")\n",
    "ss =   pd.read_csv(\"/content/drive/MyDrive/machine_learning_stories/Weekendz/GBV/SampleSubmission.csv\")"
   ]
  },
  {
   "cell_type": "markdown",
   "metadata": {},
   "source": [
    "As is right in Fastai Text, using the ULMFIT method, we have to train a language learner, and pull out the encoder from it. \n",
    "\n",
    "This should only be done once because it's quite slow,. To do this, we'll need all the data, test + train."
   ]
  },
  {
   "cell_type": "code",
   "execution_count": 8,
   "metadata": {
    "colab": {
     "base_uri": "https://localhost:8080/",
     "height": 343
    },
    "id": "gDSkfKxcmzAO",
    "outputId": "615e2719-299b-49ef-979e-d9ace7dcbbad"
   },
   "outputs": [
    {
     "data": {
      "text/html": [
       "<div>\n",
       "<style scoped>\n",
       "    .dataframe tbody tr th:only-of-type {\n",
       "        vertical-align: middle;\n",
       "    }\n",
       "\n",
       "    .dataframe tbody tr th {\n",
       "        vertical-align: top;\n",
       "    }\n",
       "\n",
       "    .dataframe thead th {\n",
       "        text-align: right;\n",
       "    }\n",
       "</style>\n",
       "<table border=\"1\" class=\"dataframe\">\n",
       "  <thead>\n",
       "    <tr style=\"text-align: right;\">\n",
       "      <th></th>\n",
       "      <th>Tweet_ID</th>\n",
       "      <th>tweet</th>\n",
       "      <th>type</th>\n",
       "    </tr>\n",
       "  </thead>\n",
       "  <tbody>\n",
       "    <tr>\n",
       "      <th>39645</th>\n",
       "      <td>ID_ZZTLP2L5</td>\n",
       "      <td>ENTRY 1299: 21F. 23M, BF’s cousin. Got drunk on Halloween. I liked him/thought he was taking care of me. He took me to an Airbnb where I thought I’d rest, but he raped me while I was throwing up. Grandma said she warned me not to drink/this is a learning lesson. 🏳️</td>\n",
       "      <td>sexual_violence</td>\n",
       "    </tr>\n",
       "    <tr>\n",
       "      <th>39646</th>\n",
       "      <td>ID_ZZXB10M6</td>\n",
       "      <td>So you’re telling me Emmanuel Macron was groomed, maybe even raped, as a child by a 40 year old woman... who he married, taking her 3 kids and having none of his own?   What a worthless existence</td>\n",
       "      <td>sexual_violence</td>\n",
       "    </tr>\n",
       "    <tr>\n",
       "      <th>39647</th>\n",
       "      <td>ID_ZZY8B7FJ</td>\n",
       "      <td>My wife regularly beats me, I get dirty slaps – husband tells court -</td>\n",
       "      <td>Physical_violence</td>\n",
       "    </tr>\n",
       "    <tr>\n",
       "      <th>39648</th>\n",
       "      <td>ID_ZZYAFD8L</td>\n",
       "      <td>Me: Hey babe! Police officer boyfriend: is that him? Me:Yes babe get him he raped me And killed me Police officer boyfriend: you fucking scum! Come HERE!!!</td>\n",
       "      <td>sexual_violence</td>\n",
       "    </tr>\n",
       "    <tr>\n",
       "      <th>39649</th>\n",
       "      <td>ID_ZZZ8QEKT</td>\n",
       "      <td>“I will take accountability if you think it’s ok for me to live in a Tenn jail for the rest of my life and get raped and beaten to death”   He lays down the guilt a little thick.  She should say ok.</td>\n",
       "      <td>sexual_violence</td>\n",
       "    </tr>\n",
       "  </tbody>\n",
       "</table>\n",
       "</div>"
      ],
      "text/plain": [
       "          Tweet_ID  ...               type\n",
       "39645  ID_ZZTLP2L5  ...    sexual_violence\n",
       "39646  ID_ZZXB10M6  ...    sexual_violence\n",
       "39647  ID_ZZY8B7FJ  ...  Physical_violence\n",
       "39648  ID_ZZYAFD8L  ...    sexual_violence\n",
       "39649  ID_ZZZ8QEKT  ...    sexual_violence\n",
       "\n",
       "[5 rows x 3 columns]"
      ]
     },
     "execution_count": 8,
     "metadata": {
      "tags": []
     },
     "output_type": "execute_result"
    }
   ],
   "source": [
    "train.tail()"
   ]
  },
  {
   "cell_type": "code",
   "execution_count": 9,
   "metadata": {
    "id": "9l6KHpKNm2KG"
   },
   "outputs": [],
   "source": [
    "df = train.drop(\"type\", axis=1).append(test, ignore_index = True)"
   ]
  },
  {
   "cell_type": "code",
   "execution_count": 10,
   "metadata": {
    "colab": {
     "base_uri": "https://localhost:8080/",
     "height": 629
    },
    "id": "VstCh1qanMLI",
    "outputId": "5a171624-c354-44bf-8bcf-19eec53cd8ce"
   },
   "outputs": [
    {
     "data": {
      "text/html": [
       "<div>\n",
       "<style scoped>\n",
       "    .dataframe tbody tr th:only-of-type {\n",
       "        vertical-align: middle;\n",
       "    }\n",
       "\n",
       "    .dataframe tbody tr th {\n",
       "        vertical-align: top;\n",
       "    }\n",
       "\n",
       "    .dataframe thead th {\n",
       "        text-align: right;\n",
       "    }\n",
       "</style>\n",
       "<table border=\"1\" class=\"dataframe\">\n",
       "  <thead>\n",
       "    <tr style=\"text-align: right;\">\n",
       "      <th></th>\n",
       "      <th>Tweet_ID</th>\n",
       "      <th>tweet</th>\n",
       "    </tr>\n",
       "  </thead>\n",
       "  <tbody>\n",
       "    <tr>\n",
       "      <th>0</th>\n",
       "      <td>ID_0022DWKP</td>\n",
       "      <td>Had a dream i got raped last night. By a guy i work with. Actually a guy i smoked with once at my house but he was doing too much tryna be sexual and it wasn’t even like that for me just wanted to smoke.</td>\n",
       "    </tr>\n",
       "    <tr>\n",
       "      <th>1</th>\n",
       "      <td>ID_00395QYM</td>\n",
       "      <td>he thought the word raped means sex and told me “i saw our dogs raping eachother” and i was like wtf</td>\n",
       "    </tr>\n",
       "    <tr>\n",
       "      <th>2</th>\n",
       "      <td>ID_003EOSSF</td>\n",
       "      <td>She NOT TALKING TO ME I WAS RAPED BY 2 MEN 1 MOLESTED HE IN JAIL ON NOTHER CHARGE SO SHE NOT SAYING WORD</td>\n",
       "    </tr>\n",
       "    <tr>\n",
       "      <th>3</th>\n",
       "      <td>ID_004BBHOD</td>\n",
       "      <td>I was sexually abused for 3 years at age 4 to 7. No one believed me.  I was raped by my bro’s friend in a classroom at 13. He was 18. I told no one cause “Who would believe me?”.  My bro found out when I was 19. His friend bragged to the wrong person.  It is hard to come forward.</td>\n",
       "    </tr>\n",
       "    <tr>\n",
       "      <th>4</th>\n",
       "      <td>ID_004F7516</td>\n",
       "      <td>Chessy Prout can do better by telling the truth. By not selling Owen Labrie out to hide whoever else's DNA was in her underwear. She said \"I have never said he raped me\". That changed Chessy to \"I was raped, I was violated\". White Female Privilege allowed her a platform to lie.</td>\n",
       "    </tr>\n",
       "    <tr>\n",
       "      <th>...</th>\n",
       "      <td>...</td>\n",
       "      <td>...</td>\n",
       "    </tr>\n",
       "    <tr>\n",
       "      <th>55226</th>\n",
       "      <td>ID_ZZR1D21T</td>\n",
       "      <td>A Teesside charity has filed a “super complaint” against alleged systemic mishandling of sexual abuse cases by police forces.   ⚠️ content warning: honour-based violence, sexual and domestic abuse, forced marriage, and female genital mutilation (FGM).</td>\n",
       "    </tr>\n",
       "    <tr>\n",
       "      <th>55227</th>\n",
       "      <td>ID_ZZSQF54Y</td>\n",
       "      <td>he ... forced me to have sex with him.</td>\n",
       "    </tr>\n",
       "    <tr>\n",
       "      <th>55228</th>\n",
       "      <td>ID_ZZTN5126</td>\n",
       "      <td>Female student of medical university raped at gunpoint in Lahore</td>\n",
       "    </tr>\n",
       "    <tr>\n",
       "      <th>55229</th>\n",
       "      <td>ID_ZZWS0XZZ</td>\n",
       "      <td>Bokamoso Mpembe (20 months) (Kidnapped and killed by mother’s ex-boyfriend - Aug 2020)  Bridgenay Slingers (18) (Murdered by ex-boyfriend) Carol Pienaar (raped and murdered no further details available but case closed)   Clarissa Lindor (27) (beaten to death by boyfriend)</td>\n",
       "    </tr>\n",
       "    <tr>\n",
       "      <th>55230</th>\n",
       "      <td>ID_ZZZE5A5Q</td>\n",
       "      <td>Confession: Never Really Over reminds me of my ex and it is over and absolutely *i shouldn't say this* hate him because he forced me to have sex one time when i said NO, that was the main reason why i broke up with him... sad, yes but I'm getting better after 3 years...</td>\n",
       "    </tr>\n",
       "  </tbody>\n",
       "</table>\n",
       "<p>55231 rows × 2 columns</p>\n",
       "</div>"
      ],
      "text/plain": [
       "          Tweet_ID                                                                                                                                                                                                                                                                                     tweet\n",
       "0      ID_0022DWKP                                                                               Had a dream i got raped last night. By a guy i work with. Actually a guy i smoked with once at my house but he was doing too much tryna be sexual and it wasn’t even like that for me just wanted to smoke.\n",
       "1      ID_00395QYM                                                                                                                                                                                      he thought the word raped means sex and told me “i saw our dogs raping eachother” and i was like wtf\n",
       "2      ID_003EOSSF                                                                                                                                                                                  She NOT TALKING TO ME I WAS RAPED BY 2 MEN 1 MOLESTED HE IN JAIL ON NOTHER CHARGE SO SHE NOT SAYING WORD\n",
       "3      ID_004BBHOD  I was sexually abused for 3 years at age 4 to 7. No one believed me.  I was raped by my bro’s friend in a classroom at 13. He was 18. I told no one cause “Who would believe me?”.  My bro found out when I was 19. His friend bragged to the wrong person.  It is hard to come forward.\n",
       "4      ID_004F7516    Chessy Prout can do better by telling the truth. By not selling Owen Labrie out to hide whoever else's DNA was in her underwear. She said \"I have never said he raped me\". That changed Chessy to \"I was raped, I was violated\". White Female Privilege allowed her a platform to lie.\n",
       "...            ...                                                                                                                                                                                                                                                                                       ...\n",
       "55226  ID_ZZR1D21T                            A Teesside charity has filed a “super complaint” against alleged systemic mishandling of sexual abuse cases by police forces.   ⚠️ content warning: honour-based violence, sexual and domestic abuse, forced marriage, and female genital mutilation (FGM).   \n",
       "55227  ID_ZZSQF54Y                                                                                                                                                                                                                                                    he ... forced me to have sex with him.\n",
       "55228  ID_ZZTN5126                                                                                                                                                                                                                        Female student of medical university raped at gunpoint in Lahore  \n",
       "55229  ID_ZZWS0XZZ          Bokamoso Mpembe (20 months) (Kidnapped and killed by mother’s ex-boyfriend - Aug 2020)  Bridgenay Slingers (18) (Murdered by ex-boyfriend) Carol Pienaar (raped and murdered no further details available but case closed)   Clarissa Lindor (27) (beaten to death by boyfriend)\n",
       "55230  ID_ZZZE5A5Q            Confession: Never Really Over reminds me of my ex and it is over and absolutely *i shouldn't say this* hate him because he forced me to have sex one time when i said NO, that was the main reason why i broke up with him... sad, yes but I'm getting better after 3 years...\n",
       "\n",
       "[55231 rows x 2 columns]"
      ]
     },
     "execution_count": 10,
     "metadata": {
      "tags": []
     },
     "output_type": "execute_result"
    }
   ],
   "source": [
    "df"
   ]
  },
  {
   "cell_type": "markdown",
   "metadata": {},
   "source": [
    "Create a datablock API to hadle your data feed into fastai. I used 95 percent to train, and 5 percent for validation, this doesn't really matter, the language model learner should get as much text as possible."
   ]
  },
  {
   "cell_type": "code",
   "execution_count": 11,
   "metadata": {
    "id": "XQHAeh-0nUZK"
   },
   "outputs": [],
   "source": [
    "dls_lm = DataBlock(\n",
    "    blocks=TextBlock.from_df('tweet', is_lm=True),\n",
    "    get_x=ColReader('text'), \n",
    "    splitter=TrainTestSplitter(0.05) \n",
    "    # using only 5% of entire comments data for validation inorder to learn more\n",
    ")"
   ]
  },
  {
   "cell_type": "markdown",
   "metadata": {},
   "source": [
    "Quick one! : To avoid disparities, check your Fastai version, mine is \"2.5.0\""
   ]
  },
  {
   "cell_type": "code",
   "execution_count": 12,
   "metadata": {
    "id": "02pvFf9TY2f_"
   },
   "outputs": [],
   "source": [
    "import fastai"
   ]
  },
  {
   "cell_type": "code",
   "execution_count": 13,
   "metadata": {
    "colab": {
     "base_uri": "https://localhost:8080/",
     "height": 35
    },
    "id": "Y6YaGiYFnaFu",
    "outputId": "27de2aa0-afb1-46c5-9026-108b78c8167c"
   },
   "outputs": [
    {
     "data": {
      "application/vnd.google.colaboratory.intrinsic+json": {
       "type": "string"
      },
      "text/plain": [
       "'2.5.0'"
      ]
     },
     "execution_count": 13,
     "metadata": {
      "tags": []
     },
     "output_type": "execute_result"
    }
   ],
   "source": [
    "fastai.__version__"
   ]
  },
  {
   "cell_type": "markdown",
   "metadata": {},
   "source": [
    "proceed to create your data loader."
   ]
  },
  {
   "cell_type": "code",
   "execution_count": 14,
   "metadata": {
    "colab": {
     "base_uri": "https://localhost:8080/",
     "height": 73
    },
    "id": "HvWnFmmAZGB0",
    "outputId": "120555e6-1a11-410c-b4aa-977eb218c35b"
   },
   "outputs": [
    {
     "data": {
      "text/html": [],
      "text/plain": [
       "<IPython.core.display.HTML object>"
      ]
     },
     "metadata": {
      "tags": []
     },
     "output_type": "display_data"
    },
    {
     "name": "stderr",
     "output_type": "stream",
     "text": [
      "/usr/local/lib/python3.7/dist-packages/numpy/core/_asarray.py:83: VisibleDeprecationWarning: Creating an ndarray from ragged nested sequences (which is a list-or-tuple of lists-or-tuples-or ndarrays with different lengths or shapes) is deprecated. If you meant to do this, you must specify 'dtype=object' when creating the ndarray\n",
      "  return array(a, dtype, copy=False, order=order)\n"
     ]
    }
   ],
   "source": [
    "data_lm = dls_lm.dataloaders(df)"
   ]
  },
  {
   "cell_type": "markdown",
   "metadata": {},
   "source": [
    "### You can always comment out this section after running once.\n",
    "\n",
    "you won't be needing this section everytime you want to run the notebook, if you've run it once and saved the encoder, you can comment the code lines out."
   ]
  },
  {
   "cell_type": "markdown",
   "metadata": {},
   "source": [
    "###### Start of temporary section"
   ]
  },
  {
   "cell_type": "markdown",
   "metadata": {},
   "source": [
    "Build the language learner model"
   ]
  },
  {
   "cell_type": "code",
   "execution_count": null,
   "metadata": {
    "id": "GLHyRxUmpD9Q"
   },
   "outputs": [],
   "source": [
    "learn = language_model_learner(data_lm, AWD_LSTM, drop_mult=0.3, pretrained=True, metrics=[accuracy, Perplexity()])"
   ]
  },
  {
   "cell_type": "markdown",
   "metadata": {},
   "source": [
    "View model"
   ]
  },
  {
   "cell_type": "code",
   "execution_count": 16,
   "metadata": {
    "id": "hCmARY9tqRpJ"
   },
   "outputs": [],
   "source": [
    "learn.model"
   ]
  },
  {
   "cell_type": "markdown",
   "metadata": {},
   "source": [
    "check out a single batch"
   ]
  },
  {
   "cell_type": "code",
   "execution_count": 17,
   "metadata": {
    "id": "eWosuPVWnrhU"
   },
   "outputs": [],
   "source": [
    "data_lm.show_batch()"
   ]
  },
  {
   "cell_type": "markdown",
   "metadata": {},
   "source": [
    "You can use fastai's lr_find to find a suitable learning rate."
   ]
  },
  {
   "cell_type": "code",
   "execution_count": 18,
   "metadata": {
    "id": "vi1NH0kPpK3j"
   },
   "outputs": [],
   "source": [
    "learn.lr_find()"
   ]
  },
  {
   "cell_type": "markdown",
   "metadata": {},
   "source": [
    "For me, I picked 1e-2 as learning rate."
   ]
  },
  {
   "cell_type": "code",
   "execution_count": 19,
   "metadata": {
    "id": "-tFavpGHpsVy"
   },
   "outputs": [],
   "source": [
    "learn.fine_tune(5, 1e-2)"
   ]
  },
  {
   "cell_type": "markdown",
   "metadata": {},
   "source": [
    "let's save the encoder. This is what we need this section for."
   ]
  },
  {
   "cell_type": "code",
   "execution_count": 20,
   "metadata": {
    "id": "2TAIomJEpLdD"
   },
   "outputs": [],
   "source": [
    "learn.save_encoder('/content/drive/MyDrive/machine_learning_stories/Weekendz/GBV/v2ft_enc')"
   ]
  },
  {
   "cell_type": "markdown",
   "metadata": {},
   "source": [
    "###### End of temporary section."
   ]
  },
  {
   "cell_type": "markdown",
   "metadata": {},
   "source": [
    "###### Let's continue the code. "
   ]
  },
  {
   "cell_type": "markdown",
   "metadata": {},
   "source": [
    "Re-import the test and train again, we've tampered with it previously. I had some challenges so i changed the column name from tweet to text."
   ]
  },
  {
   "cell_type": "markdown",
   "metadata": {},
   "source": [
    "###### Now you'll train the first text classifier model."
   ]
  },
  {
   "cell_type": "code",
   "execution_count": 21,
   "metadata": {
    "id": "V0onmjvPnuJG"
   },
   "outputs": [],
   "source": [
    "_train = pd.read_csv(\"/content/drive/MyDrive/machine_learning_stories/Weekendz/GBV/Train.csv\")\n",
    "_test = pd.read_csv(\"/content/drive/MyDrive/machine_learning_stories/Weekendz/GBV/Test.csv\")"
   ]
  },
  {
   "cell_type": "code",
   "execution_count": 22,
   "metadata": {
    "id": "gWgJbXbjn4Cd"
   },
   "outputs": [],
   "source": [
    "_train = _train.drop(\"Tweet_ID\", axis=1)\n",
    "_test = _test.drop(\"Tweet_ID\", axis=1)"
   ]
  },
  {
   "cell_type": "code",
   "execution_count": 23,
   "metadata": {
    "id": "8km_b8HTn7v-"
   },
   "outputs": [],
   "source": [
    "tweet = _train[\"tweet\"]\n",
    "_train = _train.drop(\"tweet\", axis=1)\n",
    "_train[\"text\"] = tweet"
   ]
  },
  {
   "cell_type": "code",
   "execution_count": 24,
   "metadata": {
    "id": "ZLy33-FfuL8f"
   },
   "outputs": [],
   "source": [
    "tweet = _test[\"tweet\"]\n",
    "_test = _test.drop(\"tweet\", axis=1)\n",
    "_test[\"text\"] = tweet"
   ]
  },
  {
   "cell_type": "code",
   "execution_count": 25,
   "metadata": {
    "colab": {
     "base_uri": "https://localhost:8080/",
     "height": 309
    },
    "id": "uUaqRgW0og8c",
    "outputId": "f3c418a7-15c2-49db-9a9f-d54a961f56e3",
    "scrolled": true
   },
   "outputs": [
    {
     "data": {
      "text/html": [
       "<div>\n",
       "<style scoped>\n",
       "    .dataframe tbody tr th:only-of-type {\n",
       "        vertical-align: middle;\n",
       "    }\n",
       "\n",
       "    .dataframe tbody tr th {\n",
       "        vertical-align: top;\n",
       "    }\n",
       "\n",
       "    .dataframe thead th {\n",
       "        text-align: right;\n",
       "    }\n",
       "</style>\n",
       "<table border=\"1\" class=\"dataframe\">\n",
       "  <thead>\n",
       "    <tr style=\"text-align: right;\">\n",
       "      <th></th>\n",
       "      <th>type</th>\n",
       "      <th>text</th>\n",
       "    </tr>\n",
       "  </thead>\n",
       "  <tbody>\n",
       "    <tr>\n",
       "      <th>0</th>\n",
       "      <td>sexual_violence</td>\n",
       "      <td>Had a dream i got raped last night. By a guy i work with. Actually a guy i smoked with once at my house but he was doing too much tryna be sexual and it wasn’t even like that for me just wanted to smoke.</td>\n",
       "    </tr>\n",
       "    <tr>\n",
       "      <th>1</th>\n",
       "      <td>sexual_violence</td>\n",
       "      <td>he thought the word raped means sex and told me “i saw our dogs raping eachother” and i was like wtf</td>\n",
       "    </tr>\n",
       "    <tr>\n",
       "      <th>2</th>\n",
       "      <td>sexual_violence</td>\n",
       "      <td>She NOT TALKING TO ME I WAS RAPED BY 2 MEN 1 MOLESTED HE IN JAIL ON NOTHER CHARGE SO SHE NOT SAYING WORD</td>\n",
       "    </tr>\n",
       "    <tr>\n",
       "      <th>3</th>\n",
       "      <td>sexual_violence</td>\n",
       "      <td>I was sexually abused for 3 years at age 4 to 7. No one believed me.  I was raped by my bro’s friend in a classroom at 13. He was 18. I told no one cause “Who would believe me?”.  My bro found out when I was 19. His friend bragged to the wrong person.  It is hard to come forward.</td>\n",
       "    </tr>\n",
       "    <tr>\n",
       "      <th>4</th>\n",
       "      <td>sexual_violence</td>\n",
       "      <td>Chessy Prout can do better by telling the truth. By not selling Owen Labrie out to hide whoever else's DNA was in her underwear. She said \"I have never said he raped me\". That changed Chessy to \"I was raped, I was violated\". White Female Privilege allowed her a platform to lie.</td>\n",
       "    </tr>\n",
       "  </tbody>\n",
       "</table>\n",
       "</div>"
      ],
      "text/plain": [
       "              type                                                                                                                                                                                                                                                                                      text\n",
       "0  sexual_violence                                                                               Had a dream i got raped last night. By a guy i work with. Actually a guy i smoked with once at my house but he was doing too much tryna be sexual and it wasn’t even like that for me just wanted to smoke.\n",
       "1  sexual_violence                                                                                                                                                                                      he thought the word raped means sex and told me “i saw our dogs raping eachother” and i was like wtf\n",
       "2  sexual_violence                                                                                                                                                                                  She NOT TALKING TO ME I WAS RAPED BY 2 MEN 1 MOLESTED HE IN JAIL ON NOTHER CHARGE SO SHE NOT SAYING WORD\n",
       "3  sexual_violence  I was sexually abused for 3 years at age 4 to 7. No one believed me.  I was raped by my bro’s friend in a classroom at 13. He was 18. I told no one cause “Who would believe me?”.  My bro found out when I was 19. His friend bragged to the wrong person.  It is hard to come forward.\n",
       "4  sexual_violence    Chessy Prout can do better by telling the truth. By not selling Owen Labrie out to hide whoever else's DNA was in her underwear. She said \"I have never said he raped me\". That changed Chessy to \"I was raped, I was violated\". White Female Privilege allowed her a platform to lie."
      ]
     },
     "execution_count": 25,
     "metadata": {
      "tags": []
     },
     "output_type": "execute_result"
    }
   ],
   "source": [
    "_train.head()"
   ]
  },
  {
   "cell_type": "markdown",
   "metadata": {
    "colab": {
     "base_uri": "https://localhost:8080/",
     "height": 292
    },
    "id": "6UMon5AAojFC",
    "outputId": "443fb272-04af-45e8-cd97-ff2941880a7b"
   },
   "source": [
    "Create your datablock, notice that I used a TrainTestSplitter, this gives me the edge to split by stratification. I used a train of 90% and a 10% test."
   ]
  },
  {
   "cell_type": "code",
   "execution_count": 27,
   "metadata": {
    "id": "-8HXp3Leg0cf"
   },
   "outputs": [],
   "source": [
    "blocks = (TextBlock.from_df('text', seq_len=data_lm.seq_len, vocab=data_lm.vocab), CategoryBlock())\n",
    "dls = DataBlock(blocks=blocks,\n",
    "                get_x=ColReader('text'),\n",
    "                get_y=ColReader('type'),\n",
    "                splitter=TrainTestSplitter(0.1, stratify=_train[\"type\"]) )"
   ]
  },
  {
   "cell_type": "markdown",
   "metadata": {},
   "source": [
    "Create your dataloader."
   ]
  },
  {
   "cell_type": "code",
   "execution_count": 28,
   "metadata": {
    "colab": {
     "base_uri": "https://localhost:8080/",
     "height": 73
    },
    "id": "MpUeX5OSo0kM",
    "outputId": "9a09dd8a-dc59-4d65-aad5-8c658c2f2233"
   },
   "outputs": [
    {
     "data": {
      "text/html": [],
      "text/plain": [
       "<IPython.core.display.HTML object>"
      ]
     },
     "metadata": {
      "tags": []
     },
     "output_type": "display_data"
    },
    {
     "name": "stderr",
     "output_type": "stream",
     "text": [
      "/usr/local/lib/python3.7/dist-packages/numpy/core/_asarray.py:83: VisibleDeprecationWarning: Creating an ndarray from ragged nested sequences (which is a list-or-tuple of lists-or-tuples-or ndarrays with different lengths or shapes) is deprecated. If you meant to do this, you must specify 'dtype=object' when creating the ndarray\n",
      "  return array(a, dtype, copy=False, order=order)\n"
     ]
    }
   ],
   "source": [
    "dls = dls.dataloaders(_train, bs=32)"
   ]
  },
  {
   "cell_type": "markdown",
   "metadata": {},
   "source": [
    "check out a single batch"
   ]
  },
  {
   "cell_type": "code",
   "execution_count": 29,
   "metadata": {
    "colab": {
     "base_uri": "https://localhost:8080/",
     "height": 367
    },
    "id": "c1eEtcVZsMqR",
    "outputId": "b6088657-8838-424d-af33-9217d7c12547"
   },
   "outputs": [
    {
     "data": {
      "text/html": [
       "<table border=\"1\" class=\"dataframe\">\n",
       "  <thead>\n",
       "    <tr style=\"text-align: right;\">\n",
       "      <th></th>\n",
       "      <th>text</th>\n",
       "      <th>category</th>\n",
       "    </tr>\n",
       "  </thead>\n",
       "  <tbody>\n",
       "    <tr>\n",
       "      <th>0</th>\n",
       "      <td>xxbos xxmaj do xxmaj ine ! xxmaj for xxmaj micheal . xxup b. xxup o. xxup k. xxmaj cory . xxmaj is xxmaj my xxmaj home xxmaj xxunk xxmaj at xxmaj job xxmaj corps . xxmaj michael xxmaj be xxmaj is a xxmaj tiger . xxmaj xxunk . xxmaj by . xxmaj me ! xxmaj called . xxmaj xxunk xxmaj veins . a xxmaj boy . xxmaj that xxmaj was . xxmaj raped xxmaj to xxmaj death . xxmaj because . xxmaj he xxmaj was a xxmaj blood ! xxmaj god . xxmaj did xxmaj him xxmaj in . xxmaj he xxmaj said . xxmaj show ! xxmaj me xxmaj god . i xxmaj not ! a xxmaj crack xxmaj head . i xxmaj love . xxmaj lil xxmaj but . xxunk .</td>\n",
       "      <td>sexual_violence</td>\n",
       "    </tr>\n",
       "    <tr>\n",
       "      <th>1</th>\n",
       "      <td>xxbos xxup this xxup are xxup truly xxup fraud xxup tell xxup me xxup when xxup he xxup destroy xxup jammu xxup you xxup are a xxup hindu xxup you xxup should xxup know xxup the xxup pain xxup of xxup xxunk xxup hindu xxup who xxup xxunk xxup and xxup raped xxup by xxup muslims .. xxup ok xxup you xxup will xxup not xxup listen xxup to xxup me xxup when xxup your xxup child xxup will xxup be xxup get xxup raped xxup by xxup muslims xxup then xxup you xxup will xxup xxunk xxup bjp = anti - muslim , anti - xxunk</td>\n",
       "      <td>sexual_violence</td>\n",
       "    </tr>\n",
       "    <tr>\n",
       "      <th>2</th>\n",
       "      <td>xxbos and the fucking fact he is not castrated ? ? ! ? ! ? ! ! ? ? he fucking xxup raped xxup an 8 xxup year xxup old xxup child xxup in 2008 , xxup she xxup was 8 xxup years xxup old xxup she 's xxup the xxup same xxup age xxup as xxup me xxup and xxup this xxup trash xxup is xxup out xxup of xxup the xxup prison xxup even xxup though xxup the xxup counselors xxup and xxup all xxup said xxup he xxup has xxup no xxup sign xxup of xxup remorse</td>\n",
       "      <td>sexual_violence</td>\n",
       "    </tr>\n",
       "  </tbody>\n",
       "</table>"
      ],
      "text/plain": [
       "<IPython.core.display.HTML object>"
      ]
     },
     "metadata": {
      "tags": []
     },
     "output_type": "display_data"
    }
   ],
   "source": [
    "dls.show_batch(max_n=3)"
   ]
  },
  {
   "cell_type": "markdown",
   "metadata": {},
   "source": [
    "check size of train and validation"
   ]
  },
  {
   "cell_type": "code",
   "execution_count": 30,
   "metadata": {
    "colab": {
     "base_uri": "https://localhost:8080/"
    },
    "id": "wseCG0P0isPT",
    "outputId": "3c2a2456-da29-40a8-8aa5-4445791ddd84"
   },
   "outputs": [
    {
     "data": {
      "text/plain": [
       "(35685, 3965)"
      ]
     },
     "execution_count": 30,
     "metadata": {
      "tags": []
     },
     "output_type": "execute_result"
    }
   ],
   "source": [
    "len(dls.train_ds), len(dls.valid_ds)"
   ]
  },
  {
   "cell_type": "markdown",
   "metadata": {},
   "source": [
    "Create your AWD_LSTM learner taking advantage of Fastai's open source pretrained model, the wikitext103, Fastai has already set pretrained=True.\n",
    "\n",
    "Very importantly, I loaded in the encoder which i saved earlier from the language learner model."
   ]
  },
  {
   "cell_type": "code",
   "execution_count": 31,
   "metadata": {
    "colab": {
     "base_uri": "https://localhost:8080/",
     "height": 55
    },
    "id": "8sc6l32JsT3K",
    "outputId": "82b6d4d0-174e-4735-b1a7-739d9e929712"
   },
   "outputs": [
    {
     "data": {
      "text/html": [
       "\n",
       "    <div>\n",
       "        <style>\n",
       "            /* Turns off some styling */\n",
       "            progress {\n",
       "                /* gets rid of default border in Firefox and Opera. */\n",
       "                border: none;\n",
       "                /* Needs to be in here for Safari polyfill so background images work as expected. */\n",
       "                background-size: auto;\n",
       "            }\n",
       "            .progress-bar-interrupted, .progress-bar-interrupted::-webkit-progress-bar {\n",
       "                background: #F44336;\n",
       "            }\n",
       "        </style>\n",
       "      <progress value='105070592' class='' max='105067061' style='width:300px; height:20px; vertical-align: middle;'></progress>\n",
       "      100.00% [105070592/105067061 00:02<00:00]\n",
       "    </div>\n",
       "    "
      ],
      "text/plain": [
       "<IPython.core.display.HTML object>"
      ]
     },
     "metadata": {
      "tags": []
     },
     "output_type": "display_data"
    },
    {
     "data": {
      "text/plain": [
       "<fastai.text.learner.TextLearner at 0x7efd2ed81e90>"
      ]
     },
     "execution_count": 31,
     "metadata": {
      "tags": []
     },
     "output_type": "execute_result"
    }
   ],
   "source": [
    "learn = text_classifier_learner(dls, AWD_LSTM,metrics=[accuracy])\n",
    "learn.load_encoder('/content/drive/MyDrive/machine_learning_stories/Weekendz/GBV/v2ft_enc')"
   ]
  },
  {
   "cell_type": "markdown",
   "metadata": {},
   "source": [
    "Check out lr_find to choose a suitable learning rate."
   ]
  },
  {
   "cell_type": "code",
   "execution_count": 32,
   "metadata": {
    "colab": {
     "base_uri": "https://localhost:8080/",
     "height": 301
    },
    "id": "pAglpzcLs6Xy",
    "outputId": "fcc2bee2-b87c-48ad-98a1-e6d837031f3f"
   },
   "outputs": [
    {
     "data": {
      "text/html": [],
      "text/plain": [
       "<IPython.core.display.HTML object>"
      ]
     },
     "metadata": {
      "tags": []
     },
     "output_type": "display_data"
    },
    {
     "data": {
      "text/plain": [
       "SuggestedLRs(valley=0.0063095735386013985)"
      ]
     },
     "execution_count": 32,
     "metadata": {
      "tags": []
     },
     "output_type": "execute_result"
    },
    {
     "data": {
      "image/png": "[encoded data removed]",
      "text/plain": [
       "<Figure size 432x288 with 1 Axes>"
      ]
     },
     "metadata": {
      "needs_background": "light",
      "tags": []
     },
     "output_type": "display_data"
    }
   ],
   "source": [
    "learn.lr_find()"
   ]
  },
  {
   "cell_type": "markdown",
   "metadata": {},
   "source": [
    "Choose learning rate, for me, I used 1e-2, looks good from the plot above."
   ]
  },
  {
   "cell_type": "code",
   "execution_count": 33,
   "metadata": {
    "colab": {
     "base_uri": "https://localhost:8080/",
     "height": 112
    },
    "id": "UafG0yJltJLe",
    "outputId": "21364593-4f27-451e-8df1-1f88a2a84f71"
   },
   "outputs": [
    {
     "data": {
      "text/html": [
       "<table border=\"1\" class=\"dataframe\">\n",
       "  <thead>\n",
       "    <tr style=\"text-align: left;\">\n",
       "      <th>epoch</th>\n",
       "      <th>train_loss</th>\n",
       "      <th>valid_loss</th>\n",
       "      <th>accuracy</th>\n",
       "      <th>time</th>\n",
       "    </tr>\n",
       "  </thead>\n",
       "  <tbody>\n",
       "    <tr>\n",
       "      <td>0</td>\n",
       "      <td>0.124705</td>\n",
       "      <td>0.047326</td>\n",
       "      <td>0.986381</td>\n",
       "      <td>00:59</td>\n",
       "    </tr>\n",
       "    <tr>\n",
       "      <td>1</td>\n",
       "      <td>0.064934</td>\n",
       "      <td>0.027379</td>\n",
       "      <td>0.992182</td>\n",
       "      <td>00:58</td>\n",
       "    </tr>\n",
       "  </tbody>\n",
       "</table>"
      ],
      "text/plain": [
       "<IPython.core.display.HTML object>"
      ]
     },
     "metadata": {
      "tags": []
     },
     "output_type": "display_data"
    }
   ],
   "source": [
    "learn.fit_one_cycle(2, 1e-2)"
   ]
  },
  {
   "cell_type": "markdown",
   "metadata": {},
   "source": [
    " use a slice of learning rates to tune the inner layers of the model."
   ]
  },
  {
   "cell_type": "code",
   "execution_count": 34,
   "metadata": {
    "colab": {
     "base_uri": "https://localhost:8080/",
     "height": 80
    },
    "id": "z5aJJWkEtMW9",
    "outputId": "fce620a4-925f-406d-fb6d-20045ab56f57"
   },
   "outputs": [
    {
     "data": {
      "text/html": [
       "<table border=\"1\" class=\"dataframe\">\n",
       "  <thead>\n",
       "    <tr style=\"text-align: left;\">\n",
       "      <th>epoch</th>\n",
       "      <th>train_loss</th>\n",
       "      <th>valid_loss</th>\n",
       "      <th>accuracy</th>\n",
       "      <th>time</th>\n",
       "    </tr>\n",
       "  </thead>\n",
       "  <tbody>\n",
       "    <tr>\n",
       "      <td>0</td>\n",
       "      <td>0.016762</td>\n",
       "      <td>0.004638</td>\n",
       "      <td>0.998235</td>\n",
       "      <td>01:02</td>\n",
       "    </tr>\n",
       "  </tbody>\n",
       "</table>"
      ],
      "text/plain": [
       "<IPython.core.display.HTML object>"
      ]
     },
     "metadata": {
      "tags": []
     },
     "output_type": "display_data"
    }
   ],
   "source": [
    "learn.freeze_to(-2)\n",
    "learn.fit_one_cycle(1, slice(1e-2/(2.6**4), 1e-2))"
   ]
  },
  {
   "cell_type": "code",
   "execution_count": 35,
   "metadata": {
    "colab": {
     "base_uri": "https://localhost:8080/",
     "height": 80
    },
    "id": "UxbXJ8mctOS-",
    "outputId": "ce933c0f-4127-47c1-be2b-7560c5fff6c7"
   },
   "outputs": [
    {
     "data": {
      "text/html": [
       "<table border=\"1\" class=\"dataframe\">\n",
       "  <thead>\n",
       "    <tr style=\"text-align: left;\">\n",
       "      <th>epoch</th>\n",
       "      <th>train_loss</th>\n",
       "      <th>valid_loss</th>\n",
       "      <th>accuracy</th>\n",
       "      <th>time</th>\n",
       "    </tr>\n",
       "  </thead>\n",
       "  <tbody>\n",
       "    <tr>\n",
       "      <td>0</td>\n",
       "      <td>0.010837</td>\n",
       "      <td>0.002720</td>\n",
       "      <td>0.999496</td>\n",
       "      <td>01:22</td>\n",
       "    </tr>\n",
       "  </tbody>\n",
       "</table>"
      ],
      "text/plain": [
       "<IPython.core.display.HTML object>"
      ]
     },
     "metadata": {
      "tags": []
     },
     "output_type": "display_data"
    }
   ],
   "source": [
    "learn.freeze_to(-3)\n",
    "learn.fit_one_cycle(1, slice(1e-3/(2.6**4), 1e-3))"
   ]
  },
  {
   "cell_type": "markdown",
   "metadata": {},
   "source": [
    "Now that you are done training, load in the test set, and make your predictions."
   ]
  },
  {
   "cell_type": "code",
   "execution_count": 36,
   "metadata": {
    "colab": {
     "base_uri": "https://localhost:8080/",
     "height": 17
    },
    "id": "EZ9Qsunhwk6T",
    "outputId": "c87fc927-739b-41dd-96b4-bff2770b3f2f"
   },
   "outputs": [
    {
     "data": {
      "text/html": [],
      "text/plain": [
       "<IPython.core.display.HTML object>"
      ]
     },
     "metadata": {
      "tags": []
     },
     "output_type": "display_data"
    }
   ],
   "source": [
    "dl = learn.dls.test_dl(_test['text'])\n",
    "class_list = ['Harmful_Traditional_practice', 'Physical_violence', 'economic_violence','emotional_violence', 'sexual_violence']\n",
    "preds= learn.get_preds(dl=dl)\n",
    "class_indexes = np.argmax(preds[0], axis=1)\n",
    "classes = [class_list[idx] for idx in class_indexes]"
   ]
  },
  {
   "cell_type": "markdown",
   "metadata": {},
   "source": [
    "##### This is where the Magic is!\n",
    "\n",
    "Generate psuedo labels for your model to train with. I picked a specific class, \"Physical_violence\""
   ]
  },
  {
   "cell_type": "code",
   "execution_count": 37,
   "metadata": {
    "id": "VdAqboPvw_MI"
   },
   "outputs": [],
   "source": [
    "_psuedo =  pd.read_csv(\"/content/drive/MyDrive/machine_learning_stories/Weekendz/GBV/Test.csv\")\n",
    "_psuedo[\"type\"]  = classes"
   ]
  },
  {
   "cell_type": "markdown",
   "metadata": {},
   "source": [
    "Pull out physical_violence from your result. These are the pseudo labels you need."
   ]
  },
  {
   "cell_type": "code",
   "execution_count": 38,
   "metadata": {
    "id": "rIUwhg3uyNmY"
   },
   "outputs": [],
   "source": [
    "_psuedo = _psuedo[_psuedo[\"type\"]==\"Physical_violence\"]"
   ]
  },
  {
   "cell_type": "markdown",
   "metadata": {},
   "source": [
    "###### Stressful but worthwhile! Start the whole process all over again"
   ]
  },
  {
   "cell_type": "markdown",
   "metadata": {},
   "source": [
    "Load in the train and test set."
   ]
  },
  {
   "cell_type": "code",
   "execution_count": 39,
   "metadata": {
    "id": "sSbKEPnRy6IJ"
   },
   "outputs": [],
   "source": [
    "_train = pd.read_csv(\"/content/drive/MyDrive/machine_learning_stories/Weekendz/GBV/Train.csv\")\n",
    "_test = pd.read_csv(\"/content/drive/MyDrive/machine_learning_stories/Weekendz/GBV/Test.csv\")"
   ]
  },
  {
   "cell_type": "markdown",
   "metadata": {},
   "source": [
    "add the pseudo labels to the training set."
   ]
  },
  {
   "cell_type": "code",
   "execution_count": 40,
   "metadata": {
    "id": "LYm9wI8KzE82"
   },
   "outputs": [],
   "source": [
    "_train = _train.append(_psuedo)"
   ]
  },
  {
   "cell_type": "markdown",
   "metadata": {},
   "source": [
    "same stuff we did earlier, replace column name tweet with text. \n",
    "\n",
    "Note: There are much more better ways to do this, but most times in an hackathon, your head is hot, especially when other folks are climbling up the leaderboard incredibly fast!"
   ]
  },
  {
   "cell_type": "code",
   "execution_count": 41,
   "metadata": {
    "id": "ZF9Lc7ztz_iX"
   },
   "outputs": [],
   "source": [
    "_train = _train.drop(\"Tweet_ID\", axis=1)\n",
    "_test = _test.drop(\"Tweet_ID\", axis=1)\n",
    "tweet = _train[\"tweet\"]\n",
    "_train = _train.drop(\"tweet\", axis=1)\n",
    "_train[\"text\"] = tweet\n",
    "tweet = _test[\"tweet\"]\n",
    "_test = _test.drop(\"tweet\", axis=1)\n",
    "_test[\"text\"] = tweet"
   ]
  },
  {
   "cell_type": "markdown",
   "metadata": {},
   "source": [
    "Use Fastai's datablock API to create your datablock. Once again, notice my stratify! it's really important. \n",
    "\n",
    "Train set is 90%, Test set is 10%."
   ]
  },
  {
   "cell_type": "code",
   "execution_count": 42,
   "metadata": {
    "id": "qa5bbP2p0H6H"
   },
   "outputs": [],
   "source": [
    "blocks = (TextBlock.from_df('text', seq_len=data_lm.seq_len, vocab=data_lm.vocab), CategoryBlock())\n",
    "dls = DataBlock(blocks=blocks,\n",
    "                get_x=ColReader('text'),\n",
    "                get_y=ColReader('type'),\n",
    "                splitter=TrainTestSplitter(0.1, stratify=_train[\"type\"]) )"
   ]
  },
  {
   "cell_type": "markdown",
   "metadata": {},
   "source": [
    "Use your dataloader to create the dataset."
   ]
  },
  {
   "cell_type": "code",
   "execution_count": 43,
   "metadata": {
    "colab": {
     "base_uri": "https://localhost:8080/",
     "height": 73
    },
    "id": "APfa0PIY0VCI",
    "outputId": "b8e88d0f-ba0f-4897-a923-537eaea66784"
   },
   "outputs": [
    {
     "data": {
      "text/html": [],
      "text/plain": [
       "<IPython.core.display.HTML object>"
      ]
     },
     "metadata": {
      "tags": []
     },
     "output_type": "display_data"
    },
    {
     "name": "stderr",
     "output_type": "stream",
     "text": [
      "/usr/local/lib/python3.7/dist-packages/numpy/core/_asarray.py:83: VisibleDeprecationWarning: Creating an ndarray from ragged nested sequences (which is a list-or-tuple of lists-or-tuples-or ndarrays with different lengths or shapes) is deprecated. If you meant to do this, you must specify 'dtype=object' when creating the ndarray\n",
      "  return array(a, dtype, copy=False, order=order)\n"
     ]
    }
   ],
   "source": [
    "dls = dls.dataloaders(_train, bs=32) # i used batchsize of 32"
   ]
  },
  {
   "cell_type": "markdown",
   "metadata": {},
   "source": [
    "check batch."
   ]
  },
  {
   "cell_type": "code",
   "execution_count": 44,
   "metadata": {
    "colab": {
     "base_uri": "https://localhost:8080/",
     "height": 402
    },
    "id": "7Uh8EOSI0b18",
    "outputId": "9a22dde4-bee0-4a2f-fcf4-0a919f4ac04e"
   },
   "outputs": [
    {
     "data": {
      "text/html": [
       "<table border=\"1\" class=\"dataframe\">\n",
       "  <thead>\n",
       "    <tr style=\"text-align: right;\">\n",
       "      <th></th>\n",
       "      <th>text</th>\n",
       "      <th>category</th>\n",
       "    </tr>\n",
       "  </thead>\n",
       "  <tbody>\n",
       "    <tr>\n",
       "      <th>0</th>\n",
       "      <td>xxbos xxup language xxup are ( i xxup gon na xxup take xxup him xxup home xxup and xxup sit xxup on xxup him ) , xxup am xxup other xxup one i xxup ve xxup seen xxup what xxup am xxup going xxup to xxup do ) xxup doing xxup people xxup means xxup mess xxup there xxup life xxup up ( xxup tupac xxup said xxup y' all xxup do xxup me xxup and i xxup fuck xxup y' all ) i xxup think xxup the xxup girl xxup he xxup raped xxup did xxup him xxup and xxup wo nt xxup fuck xxup him . i xxup always xxup tell xxup the xxup people xxup trying xxup to xxup do xxup me xxup that \" -i</td>\n",
       "      <td>sexual_violence</td>\n",
       "    </tr>\n",
       "    <tr>\n",
       "      <th>1</th>\n",
       "      <td>xxbos xxup why ? xxup you xxup do n't xxup like xxup him , our xxup her , ? xxup he xxup our xxup she xxup do n't xxup fit xxup in xxup your xxup perfect xxup world , your xxup moral xxup world , xxup was xxup you xxup hurt xxup by a xxup black xxup man , did xxup you xxup get xxup raped xxup by a xxup black xxup man , xxup beat xxup by a xxup black xxup man , xxup why xxup would xxup you xxup want xxup to xxup take xxup down a xxup black xxup man , xxrep 4 ? xxup tel xxup me xxup how xxup far xxup will xxup you xxup go xxup to xxup take</td>\n",
       "      <td>sexual_violence</td>\n",
       "    </tr>\n",
       "    <tr>\n",
       "      <th>2</th>\n",
       "      <td>xxbos xxup it 's xxup funny xxup because xxup he xxup is xxup blank xxup man xxup haha xxup do n't xxup cancel xxup me xxup or xxup i 'll xxup tell xxup my xxup mommy xxup that xxup got xxup raped xxup by xxup mark xxup xxunk ( that xxup follows xxup me xxup on xxup twitter xxup by xxup the xxup way xxup and xxup has xxup hit xxup that xxup xxunk xxup bell xxup because xxup she xxup supports xxup satire . ) xxup that xxup you xxup made xxup fun xxup of xxup me xxup and xxup you 're xxup going xxup to xxup get xxup grounded xxup when i xxup become .</td>\n",
       "      <td>sexual_violence</td>\n",
       "    </tr>\n",
       "  </tbody>\n",
       "</table>"
      ],
      "text/plain": [
       "<IPython.core.display.HTML object>"
      ]
     },
     "metadata": {
      "tags": []
     },
     "output_type": "display_data"
    }
   ],
   "source": [
    "dls.show_batch(max_n=3)"
   ]
  },
  {
   "cell_type": "markdown",
   "metadata": {},
   "source": [
    "Same as you've done earlier! use the AWD_LSTM."
   ]
  },
  {
   "cell_type": "code",
   "execution_count": 45,
   "metadata": {
    "colab": {
     "base_uri": "https://localhost:8080/"
    },
    "id": "OgwzjFfX0fWw",
    "outputId": "e1a12318-de63-4bdc-b83d-07e4212f4382"
   },
   "outputs": [
    {
     "data": {
      "text/plain": [
       "<fastai.text.learner.TextLearner at 0x7efce71982d0>"
      ]
     },
     "execution_count": 45,
     "metadata": {
      "tags": []
     },
     "output_type": "execute_result"
    }
   ],
   "source": [
    "learn = text_classifier_learner(dls, AWD_LSTM,metrics=[accuracy])\n",
    "learn.load_encoder('/content/drive/MyDrive/machine_learning_stories/Weekendz/GBV/v2ft_enc')"
   ]
  },
  {
   "cell_type": "markdown",
   "metadata": {},
   "source": [
    "Check for a suitable learning rate, by now, we both agree 1e-2 is a good one."
   ]
  },
  {
   "cell_type": "code",
   "execution_count": 46,
   "metadata": {
    "colab": {
     "base_uri": "https://localhost:8080/",
     "height": 301
    },
    "id": "JygbDxG40fsF",
    "outputId": "ab042627-e859-43b4-899c-cdb8275bd634"
   },
   "outputs": [
    {
     "data": {
      "text/html": [],
      "text/plain": [
       "<IPython.core.display.HTML object>"
      ]
     },
     "metadata": {
      "tags": []
     },
     "output_type": "display_data"
    },
    {
     "data": {
      "text/plain": [
       "SuggestedLRs(valley=0.004365158267319202)"
      ]
     },
     "execution_count": 46,
     "metadata": {
      "tags": []
     },
     "output_type": "execute_result"
    },
    {
     "data": {
      "image/png": "[encoded data removed]",
      "text/plain": [
       "<Figure size 432x288 with 1 Axes>"
      ]
     },
     "metadata": {
      "needs_background": "light",
      "tags": []
     },
     "output_type": "display_data"
    }
   ],
   "source": [
    "learn.lr_find()"
   ]
  },
  {
   "cell_type": "markdown",
   "metadata": {},
   "source": [
    "###### Train your new model."
   ]
  },
  {
   "cell_type": "code",
   "execution_count": 47,
   "metadata": {
    "colab": {
     "base_uri": "https://localhost:8080/",
     "height": 112
    },
    "id": "1IEE0ZH40fxy",
    "outputId": "858188bd-1363-44fc-a7ef-17fd607be522"
   },
   "outputs": [
    {
     "data": {
      "text/html": [
       "<table border=\"1\" class=\"dataframe\">\n",
       "  <thead>\n",
       "    <tr style=\"text-align: left;\">\n",
       "      <th>epoch</th>\n",
       "      <th>train_loss</th>\n",
       "      <th>valid_loss</th>\n",
       "      <th>accuracy</th>\n",
       "      <th>time</th>\n",
       "    </tr>\n",
       "  </thead>\n",
       "  <tbody>\n",
       "    <tr>\n",
       "      <td>0</td>\n",
       "      <td>0.109457</td>\n",
       "      <td>0.044894</td>\n",
       "      <td>0.985923</td>\n",
       "      <td>01:00</td>\n",
       "    </tr>\n",
       "    <tr>\n",
       "      <td>1</td>\n",
       "      <td>0.079323</td>\n",
       "      <td>0.038483</td>\n",
       "      <td>0.988185</td>\n",
       "      <td>00:59</td>\n",
       "    </tr>\n",
       "  </tbody>\n",
       "</table>"
      ],
      "text/plain": [
       "<IPython.core.display.HTML object>"
      ]
     },
     "metadata": {
      "tags": []
     },
     "output_type": "display_data"
    }
   ],
   "source": [
    "learn.fit_one_cycle(2, 1e-2)"
   ]
  },
  {
   "cell_type": "code",
   "execution_count": 48,
   "metadata": {
    "colab": {
     "base_uri": "https://localhost:8080/",
     "height": 80
    },
    "id": "oRDK1c5x0f2w",
    "outputId": "e2cfe965-cdf2-4544-dae9-fdcbf3bca0fd"
   },
   "outputs": [
    {
     "data": {
      "text/html": [
       "<table border=\"1\" class=\"dataframe\">\n",
       "  <thead>\n",
       "    <tr style=\"text-align: left;\">\n",
       "      <th>epoch</th>\n",
       "      <th>train_loss</th>\n",
       "      <th>valid_loss</th>\n",
       "      <th>accuracy</th>\n",
       "      <th>time</th>\n",
       "    </tr>\n",
       "  </thead>\n",
       "  <tbody>\n",
       "    <tr>\n",
       "      <td>0</td>\n",
       "      <td>0.020496</td>\n",
       "      <td>0.002653</td>\n",
       "      <td>0.999497</td>\n",
       "      <td>01:03</td>\n",
       "    </tr>\n",
       "  </tbody>\n",
       "</table>"
      ],
      "text/plain": [
       "<IPython.core.display.HTML object>"
      ]
     },
     "metadata": {
      "tags": []
     },
     "output_type": "display_data"
    }
   ],
   "source": [
    "learn.freeze_to(-2)\n",
    "learn.fit_one_cycle(1, slice(1e-2/(2.6**4), 1e-2))"
   ]
  },
  {
   "cell_type": "code",
   "execution_count": 49,
   "metadata": {
    "colab": {
     "base_uri": "https://localhost:8080/",
     "height": 80
    },
    "id": "nsM8JN9g0f6k",
    "outputId": "baad395f-a773-4b06-95a3-eb3b3f1b200f"
   },
   "outputs": [
    {
     "data": {
      "text/html": [
       "<table border=\"1\" class=\"dataframe\">\n",
       "  <thead>\n",
       "    <tr style=\"text-align: left;\">\n",
       "      <th>epoch</th>\n",
       "      <th>train_loss</th>\n",
       "      <th>valid_loss</th>\n",
       "      <th>accuracy</th>\n",
       "      <th>time</th>\n",
       "    </tr>\n",
       "  </thead>\n",
       "  <tbody>\n",
       "    <tr>\n",
       "      <td>0</td>\n",
       "      <td>0.014115</td>\n",
       "      <td>0.001885</td>\n",
       "      <td>0.999749</td>\n",
       "      <td>01:23</td>\n",
       "    </tr>\n",
       "  </tbody>\n",
       "</table>"
      ],
      "text/plain": [
       "<IPython.core.display.HTML object>"
      ]
     },
     "metadata": {
      "tags": []
     },
     "output_type": "display_data"
    }
   ],
   "source": [
    "learn.freeze_to(-3)\n",
    "learn.fit_one_cycle(1, slice(1e-3/(2.6**4), 1e-3))"
   ]
  },
  {
   "cell_type": "code",
   "execution_count": 50,
   "metadata": {
    "colab": {
     "base_uri": "https://localhost:8080/",
     "height": 205
    },
    "id": "L2Jr9ccgtYoE",
    "outputId": "79e0ab79-96d5-41ad-beb2-bd03c0be58a4"
   },
   "outputs": [
    {
     "data": {
      "text/html": [
       "<table border=\"1\" class=\"dataframe\">\n",
       "  <thead>\n",
       "    <tr style=\"text-align: left;\">\n",
       "      <th>epoch</th>\n",
       "      <th>train_loss</th>\n",
       "      <th>valid_loss</th>\n",
       "      <th>accuracy</th>\n",
       "      <th>time</th>\n",
       "    </tr>\n",
       "  </thead>\n",
       "  <tbody>\n",
       "    <tr>\n",
       "      <td>0</td>\n",
       "      <td>0.009319</td>\n",
       "      <td>0.002048</td>\n",
       "      <td>0.999246</td>\n",
       "      <td>01:46</td>\n",
       "    </tr>\n",
       "    <tr>\n",
       "      <td>1</td>\n",
       "      <td>0.010859</td>\n",
       "      <td>0.001532</td>\n",
       "      <td>0.999497</td>\n",
       "      <td>01:46</td>\n",
       "    </tr>\n",
       "    <tr>\n",
       "      <td>2</td>\n",
       "      <td>0.012647</td>\n",
       "      <td>0.005592</td>\n",
       "      <td>0.997486</td>\n",
       "      <td>01:46</td>\n",
       "    </tr>\n",
       "    <tr>\n",
       "      <td>3</td>\n",
       "      <td>0.005462</td>\n",
       "      <td>0.000943</td>\n",
       "      <td>1.000000</td>\n",
       "      <td>01:47</td>\n",
       "    </tr>\n",
       "    <tr>\n",
       "      <td>4</td>\n",
       "      <td>0.002202</td>\n",
       "      <td>0.000827</td>\n",
       "      <td>0.999497</td>\n",
       "      <td>01:47</td>\n",
       "    </tr>\n",
       "  </tbody>\n",
       "</table>"
      ],
      "text/plain": [
       "<IPython.core.display.HTML object>"
      ]
     },
     "metadata": {
      "tags": []
     },
     "output_type": "display_data"
    }
   ],
   "source": [
    "learn.unfreeze()\n",
    "learn.fit_one_cycle(5, slice(5e-3/(2.6**4), 5e-3))"
   ]
  },
  {
   "cell_type": "markdown",
   "metadata": {},
   "source": [
    "Yeah! I know, your local accuracy is in 99.9%, your valid loss has a consistent down flow, you are not overfitting."
   ]
  },
  {
   "cell_type": "markdown",
   "metadata": {
    "colab": {
     "base_uri": "https://localhost:8080/",
     "height": 612
    },
    "id": "37PW-WXrtn00",
    "outputId": "b755fc0d-047d-42d7-e231-ad3a1b08cfb5"
   },
   "source": [
    "Create the test data loader, then make your predictions."
   ]
  },
  {
   "cell_type": "code",
   "execution_count": 52,
   "metadata": {
    "id": "4_UZenJ6mw-l"
   },
   "outputs": [],
   "source": [
    "dl = learn.dls.test_dl(_test['text'])"
   ]
  },
  {
   "cell_type": "code",
   "execution_count": 53,
   "metadata": {
    "colab": {
     "base_uri": "https://localhost:8080/",
     "height": 17
    },
    "id": "xN0peZcXtrsu",
    "outputId": "92b5d100-eda0-461a-b9dd-8e51e0943845"
   },
   "outputs": [
    {
     "data": {
      "text/html": [],
      "text/plain": [
       "<IPython.core.display.HTML object>"
      ]
     },
     "metadata": {
      "tags": []
     },
     "output_type": "display_data"
    }
   ],
   "source": [
    "preds= learn.get_preds(dl=dl)"
   ]
  },
  {
   "cell_type": "markdown",
   "metadata": {},
   "source": [
    "check out few things........"
   ]
  },
  {
   "cell_type": "code",
   "execution_count": 54,
   "metadata": {
    "colab": {
     "base_uri": "https://localhost:8080/"
    },
    "id": "0EZ7ALZLtvJK",
    "outputId": "4c89180b-afbd-4df3-b4cd-5dbb1e9a638c"
   },
   "outputs": [
    {
     "data": {
      "text/plain": [
       "torch.Size([15581, 5])"
      ]
     },
     "execution_count": 54,
     "metadata": {
      "tags": []
     },
     "output_type": "execute_result"
    }
   ],
   "source": [
    "preds[0].shape"
   ]
  },
  {
   "cell_type": "code",
   "execution_count": 55,
   "metadata": {
    "colab": {
     "base_uri": "https://localhost:8080/"
    },
    "id": "klhN2DIEtxh0",
    "outputId": "829ac891-77f5-404b-821d-8de9ec8151cf"
   },
   "outputs": [
    {
     "data": {
      "text/plain": [
       "(tensor([[1.3233e-04, 4.4120e-02, 3.3379e-04, 1.9565e-02, 9.3585e-01],\n",
       "         [1.0000e+00, 7.1751e-08, 1.2142e-09, 3.6495e-09, 2.4452e-07],\n",
       "         [1.0000e+00, 8.2652e-09, 3.8545e-10, 5.6193e-10, 1.0170e-08],\n",
       "         ...,\n",
       "         [5.1628e-04, 1.1168e-06, 1.8016e-07, 1.1544e-07, 9.9948e-01],\n",
       "         [2.1977e-08, 1.2267e-06, 4.1447e-09, 1.9229e-08, 1.0000e+00],\n",
       "         [2.5805e-05, 5.2499e-04, 7.1031e-06, 5.8554e-05, 9.9938e-01]]), None)"
      ]
     },
     "execution_count": 55,
     "metadata": {
      "tags": []
     },
     "output_type": "execute_result"
    }
   ],
   "source": [
    "preds#[0][0] # The predictions for the first test."
   ]
  },
  {
   "cell_type": "markdown",
   "metadata": {
    "id": "60Srtyiz0KkK"
   },
   "source": [
    "This is your class list in words, use this to convert predictions back to words"
   ]
  },
  {
   "cell_type": "code",
   "execution_count": 59,
   "metadata": {
    "id": "ywlURQA7yxOT"
   },
   "outputs": [],
   "source": [
    "class_list = ['Harmful_Traditional_practice', 'Physical_violence', 'economic_violence','emotional_violence', 'sexual_violence']"
   ]
  },
  {
   "cell_type": "markdown",
   "metadata": {},
   "source": [
    "Convert predictions to words, view first 3"
   ]
  },
  {
   "cell_type": "code",
   "execution_count": 60,
   "metadata": {
    "colab": {
     "base_uri": "https://localhost:8080/"
    },
    "id": "sbW85vvXtzVa",
    "outputId": "4f3425b2-9961-4e0d-cffc-66b6c93aaa48"
   },
   "outputs": [
    {
     "data": {
      "text/plain": [
       "['sexual_violence',\n",
       " 'Harmful_Traditional_practice',\n",
       " 'Harmful_Traditional_practice']"
      ]
     },
     "execution_count": 60,
     "metadata": {
      "tags": []
     },
     "output_type": "execute_result"
    }
   ],
   "source": [
    "class_indexes = np.argmax(preds[0], axis=1)\n",
    "classes = [class_list[idx] for idx in class_indexes]\n",
    "classes[:3] # We've found the classes in words"
   ]
  },
  {
   "cell_type": "markdown",
   "metadata": {},
   "source": [
    "use your learner to show results under the hood, for your perusal."
   ]
  },
  {
   "cell_type": "code",
   "execution_count": 61,
   "metadata": {
    "colab": {
     "base_uri": "https://localhost:8080/",
     "height": 1000
    },
    "id": "VmUF5kSnxmRv",
    "outputId": "3d930601-b2b5-4dc4-dd71-5f561cbfd90c"
   },
   "outputs": [
    {
     "data": {
      "text/html": [],
      "text/plain": [
       "<IPython.core.display.HTML object>"
      ]
     },
     "metadata": {
      "tags": []
     },
     "output_type": "display_data"
    },
    {
     "data": {
      "text/html": [
       "<table border=\"1\" class=\"dataframe\">\n",
       "  <thead>\n",
       "    <tr style=\"text-align: right;\">\n",
       "      <th></th>\n",
       "      <th>text</th>\n",
       "      <th>category</th>\n",
       "      <th>category_</th>\n",
       "    </tr>\n",
       "  </thead>\n",
       "  <tbody>\n",
       "    <tr>\n",
       "      <th>0</th>\n",
       "      <td>xxbos xxmaj do xxmaj ine ! xxmaj for xxmaj micheal . xxup b. xxup o. xxup k. xxmaj cory . xxmaj is xxmaj my xxmaj home xxmaj xxunk xxmaj at xxmaj job xxmaj corps . xxmaj michael xxmaj be xxmaj is a xxmaj tiger . xxmaj xxunk . xxmaj by . xxmaj me ! xxmaj called . xxmaj xxunk xxmaj veins . a xxmaj boy . xxmaj that xxmaj was . xxmaj raped xxmaj to xxmaj death . xxmaj because . xxmaj he xxmaj was a xxmaj blood ! xxmaj god . xxmaj did xxmaj him xxmaj in . xxmaj he xxmaj said . xxmaj show ! xxmaj me xxmaj god . i xxmaj not ! a xxmaj crack xxmaj head . i xxmaj love . xxmaj lil xxmaj but . xxunk .</td>\n",
       "      <td>sexual_violence</td>\n",
       "      <td>sexual_violence</td>\n",
       "    </tr>\n",
       "    <tr>\n",
       "      <th>1</th>\n",
       "      <td>xxbos xxup victims xxup survivors xxup of xxup xxunk xxup maxwell , xxup she xxup did xxup not xxup help xxup you xxup and xxup she xxup is xxup the xxup xxunk xxup rapist ! xxup she xxup raped xxup me xxup since i xxup was a xxup little xxup girl xxup under 10 xxup years xxup old xxup then i a xxup teenager xxup she xxup yelled xxup to xxup her xxup husband xxup jeffrey xxup xxunk ( her xxup name xxup as xxup andrea xxup xxunk ) xxup rape xxup her xxup jeffrey ! xxup he xxup raped xxup me xxup in xxup the xxup shower !</td>\n",
       "      <td>sexual_violence</td>\n",
       "      <td>sexual_violence</td>\n",
       "    </tr>\n",
       "    <tr>\n",
       "      <th>2</th>\n",
       "      <td>xxbos xxmaj this creature ( he is not a man or a male to me ) tried to get with an 11 xxup year xxup old . xxup this xxup creature xxup is 20 xxup years xxup old . xxup he xxup raped xxup girls . xxup he xxup would xxup threaten xxup to xxup expose xxup them xxup to xxup their xxup friends xxup if xxup they xxup do nt xxup suck xxup his xxup dick . xxup one xxup victim xxup had xxup to xxup leave xxup the xxup country xxup and xxup live xxup on xxup her xxup own xxup without a xxup family</td>\n",
       "      <td>sexual_violence</td>\n",
       "      <td>sexual_violence</td>\n",
       "    </tr>\n",
       "    <tr>\n",
       "      <th>3</th>\n",
       "      <td>xxbos xxup tw / / xxup rape xxup he xxup raped xxup an xxup underage xxup girl 2 xxup years xxup ago xxup two xxup fucking xxup months xxup after xxup he xxup tried xxup asking xxup me xxup out xxup and i xxup rejected xxup him xxup and i xxup was xxup also xxup underage i xxup fucking xxup hate xxup it xxup here xxup so xxup much xxup like i xxup can xxup not xxup explain xxup how xxup fucking xxup scary xxup this xxup situation xxup is xxup for xxup me xxup like xxup that xxup could xxup have xxup been xxup me</td>\n",
       "      <td>sexual_violence</td>\n",
       "      <td>sexual_violence</td>\n",
       "    </tr>\n",
       "    <tr>\n",
       "      <th>4</th>\n",
       "      <td>xxbos me : then xxup how xxup tf xxup he xxup know xxup that 's xxup his xxup baby xxup paris xxmaj mamas : xxunk stop yelling at me me : naw xxup fuck xxup that xxup uu a xxup hoe xxup ass xxup butch xxup and xxup uu xxup saying xxup uu xxup got xxup raped xxup uu xxup probably xxup liked xxup that xxup shit xxmaj mamas : 😨 … 😌 … 🙂 get out xxmaj me : mamas ii did n't mean to say that i m so sorry xxmaj mamas : xxunk xxmaj me : no xxunk mamas : get xxup out</td>\n",
       "      <td>sexual_violence</td>\n",
       "      <td>sexual_violence</td>\n",
       "    </tr>\n",
       "    <tr>\n",
       "      <th>5</th>\n",
       "      <td>xxbos xxup well i xxup know xxup from xxup my xxup own xxup experiences xxup with xxup men xxup that xxup as xxup soon xxup as xxup he xxup opens xxup his xxup mouth xxup he s xxup lying xxup if a xxup woman xxup came xxup to xxup me &amp; &amp; xxup said xxup my xxup best xxup male xxup friend xxup had xxup raped xxup her i xxup would xxup believe xxup the xxup woman xxup not xxup my xxup friend xxup denying xxup it xxup years xxup of xxup experience xxup taught xxup me xxup this xxup truth</td>\n",
       "      <td>sexual_violence</td>\n",
       "      <td>sexual_violence</td>\n",
       "    </tr>\n",
       "    <tr>\n",
       "      <th>6</th>\n",
       "      <td>xxbos xxup this xxup guy xxup xxunk xxup xxunk xxup owes xxup me xxup money xxup for xxup movie xxup roles i xxup sold xxup him . xxup he xxup owes 27 xxup needles xxup to xxup my xxup head xxup deadly xxup rape xxup alot xxup of xxup times . xxup same xxup with xxup miguel xxup xxunk n xxup he 's xxup family xxup now i xxup was xxup raped xxup sexually xxup by xxup over 15 xxup different xxup police xxup departments xxup including xxup judges xxup prosecutors xxup state xxup police xxup four xxup fbi xxup a.</td>\n",
       "      <td>sexual_violence</td>\n",
       "      <td>sexual_violence</td>\n",
       "    </tr>\n",
       "    <tr>\n",
       "      <th>7</th>\n",
       "      <td>xxbos xxmaj he is also a rapist , and went on xxmaj epsteins xxmaj island . xxup he xxup raped 3 xxup underage xxup boys xxup and xxup girls ( 12 , 11 , 13 ) . 36 xxup women xxup and xxup men xxup are xxup in xxup xxunk xxup with xxup donald xxup trump xxup over xxup this . i xxup do nt xxup care xxup whatever xxup you xxup do , xxup but xxup please xxup do n't xxup tell xxup me xxup you xxup support xxup him xxup after xxup this . xxmaj its honestly disturbing .</td>\n",
       "      <td>sexual_violence</td>\n",
       "      <td>sexual_violence</td>\n",
       "    </tr>\n",
       "    <tr>\n",
       "      <th>8</th>\n",
       "      <td>xxbos xxup the xxup abuse xxup of xxup all xxup kind xxup only xxup doubled xxup after xxup being xxup raped xxup xxunk xxup xxunk xxup hospital xxup on xxup thursday xxup february xxunk ! xxup again xxup the xxup was xxup more xxup than xxup guilty xxup they xxup took xxup the xxup time xxup to xxup right xxup pages xxup of xxup lies xxup in xxup my xxup medical xxup chart xxup xxunk xxup at xxup me xxup verbally xxup abused xxup me xxup only xxup after 18 xxup months xxup after xxup he xxup attacked a</td>\n",
       "      <td>sexual_violence</td>\n",
       "      <td>sexual_violence</td>\n",
       "    </tr>\n",
       "  </tbody>\n",
       "</table>"
      ],
      "text/plain": [
       "<IPython.core.display.HTML object>"
      ]
     },
     "metadata": {
      "tags": []
     },
     "output_type": "display_data"
    }
   ],
   "source": [
    "learn.show_results()"
   ]
  },
  {
   "cell_type": "markdown",
   "metadata": {},
   "source": [
    "Take a quick glance at unique classes in your solution."
   ]
  },
  {
   "cell_type": "code",
   "execution_count": 62,
   "metadata": {
    "colab": {
     "base_uri": "https://localhost:8080/"
    },
    "id": "aK7cFHJLxySu",
    "outputId": "5c97665b-96ae-41b5-b756-e5e3f1bc93ef"
   },
   "outputs": [
    {
     "data": {
      "text/plain": [
       "array(['Harmful_Traditional_practice', 'Physical_violence',\n",
       "       'economic_violence', 'emotional_violence', 'sexual_violence'],\n",
       "      dtype='<U28')"
      ]
     },
     "execution_count": 62,
     "metadata": {
      "tags": []
     },
     "output_type": "execute_result"
    }
   ],
   "source": [
    "np.unique(classes)"
   ]
  },
  {
   "cell_type": "markdown",
   "metadata": {},
   "source": [
    "###### Make your submission while smiling."
   ]
  },
  {
   "cell_type": "markdown",
   "metadata": {},
   "source": [
    "Use sample submission."
   ]
  },
  {
   "cell_type": "code",
   "execution_count": 63,
   "metadata": {
    "colab": {
     "base_uri": "https://localhost:8080/",
     "height": 205
    },
    "id": "klUWrITsx-cZ",
    "outputId": "afdf95e7-953d-4fb6-d622-c93ede4b399e"
   },
   "outputs": [
    {
     "data": {
      "text/html": [
       "<div>\n",
       "<style scoped>\n",
       "    .dataframe tbody tr th:only-of-type {\n",
       "        vertical-align: middle;\n",
       "    }\n",
       "\n",
       "    .dataframe tbody tr th {\n",
       "        vertical-align: top;\n",
       "    }\n",
       "\n",
       "    .dataframe thead th {\n",
       "        text-align: right;\n",
       "    }\n",
       "</style>\n",
       "<table border=\"1\" class=\"dataframe\">\n",
       "  <thead>\n",
       "    <tr style=\"text-align: right;\">\n",
       "      <th></th>\n",
       "      <th>Tweet_ID</th>\n",
       "      <th>type</th>\n",
       "    </tr>\n",
       "  </thead>\n",
       "  <tbody>\n",
       "    <tr>\n",
       "      <th>0</th>\n",
       "      <td>ID_0095QL4S</td>\n",
       "      <td>sexual_violence</td>\n",
       "    </tr>\n",
       "    <tr>\n",
       "      <th>1</th>\n",
       "      <td>ID_00DREW5O</td>\n",
       "      <td>Harmful_Traditional_practice</td>\n",
       "    </tr>\n",
       "    <tr>\n",
       "      <th>2</th>\n",
       "      <td>ID_00E9F5X9</td>\n",
       "      <td>Harmful_Traditional_practice</td>\n",
       "    </tr>\n",
       "    <tr>\n",
       "      <th>3</th>\n",
       "      <td>ID_00G9OSKZ</td>\n",
       "      <td>sexual_violence</td>\n",
       "    </tr>\n",
       "    <tr>\n",
       "      <th>4</th>\n",
       "      <td>ID_00HU96U6</td>\n",
       "      <td>Physical_violence</td>\n",
       "    </tr>\n",
       "  </tbody>\n",
       "</table>\n",
       "</div>"
      ],
      "text/plain": [
       "      Tweet_ID                          type\n",
       "0  ID_0095QL4S               sexual_violence\n",
       "1  ID_00DREW5O  Harmful_Traditional_practice\n",
       "2  ID_00E9F5X9  Harmful_Traditional_practice\n",
       "3  ID_00G9OSKZ               sexual_violence\n",
       "4  ID_00HU96U6             Physical_violence"
      ]
     },
     "execution_count": 63,
     "metadata": {
      "tags": []
     },
     "output_type": "execute_result"
    }
   ],
   "source": [
    "ss['type'] = classes\n",
    "ss.head() # Now we have outputs that aren't restricted to the integer growth phase numbers"
   ]
  },
  {
   "cell_type": "markdown",
   "metadata": {},
   "source": [
    "This is very important, Take a quick glance at the stratification of your result. It's good practice, you might find something."
   ]
  },
  {
   "cell_type": "code",
   "execution_count": 64,
   "metadata": {
    "colab": {
     "base_uri": "https://localhost:8080/"
    },
    "id": "DvvNaOPG4Qpg",
    "outputId": "24a7ee8f-a0dc-43af-c4bb-a458033c04f4"
   },
   "outputs": [
    {
     "data": {
      "text/plain": [
       "sexual_violence                 8069\n",
       "Physical_violence               3279\n",
       "Harmful_Traditional_practice    3160\n",
       "emotional_violence               619\n",
       "economic_violence                454\n",
       "Name: type, dtype: int64"
      ]
     },
     "execution_count": 64,
     "metadata": {
      "tags": []
     },
     "output_type": "execute_result"
    }
   ],
   "source": [
    "ss.type.value_counts()"
   ]
  },
  {
   "cell_type": "markdown",
   "metadata": {},
   "source": [
    "Convert your submission to CSV, download it, then submit on zindi!"
   ]
  },
  {
   "cell_type": "code",
   "execution_count": 65,
   "metadata": {
    "colab": {
     "base_uri": "https://localhost:8080/",
     "height": 17
    },
    "id": "fS9iCb_8yHWj",
    "outputId": "4086d957-744c-4d1b-f387-bf5c47d1df38"
   },
   "outputs": [
    {
     "data": {
      "application/javascript": [
       "\n",
       "    async function download(id, filename, size) {\n",
       "      if (!google.colab.kernel.accessAllowed) {\n",
       "        return;\n",
       "      }\n",
       "      const div = document.createElement('div');\n",
       "      const label = document.createElement('label');\n",
       "      label.textContent = `Downloading \"${filename}\": `;\n",
       "      div.appendChild(label);\n",
       "      const progress = document.createElement('progress');\n",
       "      progress.max = size;\n",
       "      div.appendChild(progress);\n",
       "      document.body.appendChild(div);\n",
       "\n",
       "      const buffers = [];\n",
       "      let downloaded = 0;\n",
       "\n",
       "      const channel = await google.colab.kernel.comms.open(id);\n",
       "      // Send a message to notify the kernel that we're ready.\n",
       "      channel.send({})\n",
       "\n",
       "      for await (const message of channel.messages) {\n",
       "        // Send a message to notify the kernel that we're ready.\n",
       "        channel.send({})\n",
       "        if (message.buffers) {\n",
       "          for (const buffer of message.buffers) {\n",
       "            buffers.push(buffer);\n",
       "            downloaded += buffer.byteLength;\n",
       "            progress.value = downloaded;\n",
       "          }\n",
       "        }\n",
       "      }\n",
       "      const blob = new Blob(buffers, {type: 'application/binary'});\n",
       "      const a = document.createElement('a');\n",
       "      a.href = window.URL.createObjectURL(blob);\n",
       "      a.download = filename;\n",
       "      div.appendChild(a);\n",
       "      a.click();\n",
       "      div.remove();\n",
       "    }\n",
       "  "
      ],
      "text/plain": [
       "<IPython.core.display.Javascript object>"
      ]
     },
     "metadata": {
      "tags": []
     },
     "output_type": "display_data"
    },
    {
     "data": {
      "application/javascript": [
       "download(\"download_5156f09f-4d93-488c-b665-b73d82ea6e54\", \"No Seed.csv\", 486685)"
      ],
      "text/plain": [
       "<IPython.core.display.Javascript object>"
      ]
     },
     "metadata": {
      "tags": []
     },
     "output_type": "display_data"
    }
   ],
   "source": [
    "name = \"submission.csv\"\n",
    "ss.to_csv(name, index=False)\n",
    "from google.colab import files\n",
    "files.download(name)"
   ]
  }
 ],
 "metadata": {
  "accelerator": "GPU",
  "colab": {
   "collapsed_sections": [],
   "name": "Best GBV Classifier ever.ipynb",
   "provenance": []
  },
  "kernelspec": {
   "display_name": "Python 3",
   "language": "python",
   "name": "python3"
  },
  "language_info": {
   "codemirror_mode": {
    "name": "ipython",
    "version": 3
   },
   "file_extension": ".py",
   "mimetype": "text/x-python",
   "name": "python",
   "nbconvert_exporter": "python",
   "pygments_lexer": "ipython3",
   "version": "3.7.4"
  }
 },
 "nbformat": 4,
 "nbformat_minor": 1
}
